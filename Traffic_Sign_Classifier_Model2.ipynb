{
 "cells": [
  {
   "cell_type": "markdown",
   "metadata": {},
   "source": [
    "# Self-Driving Car Engineer Nanodegree\n",
    "\n",
    "## Deep Learning\n",
    "\n",
    "## Project: Build a Traffic Sign Recognition Classifier\n",
    "\n",
    "In this notebook, a template is provided for you to implement your functionality in stages, which is required to successfully complete this project. If additional code is required that cannot be included in the notebook, be sure that the Python code is successfully imported and included in your submission if necessary. \n",
    "\n",
    "> **Note**: Once you have completed all of the code implementations, you need to finalize your work by exporting the iPython Notebook as an HTML document. Before exporting the notebook to html, all of the code cells need to have been run so that reviewers can see the final implementation and output. You can then export the notebook by using the menu above and navigating to  \\n\",\n",
    "    \"**File -> Download as -> HTML (.html)**. Include the finished document along with this notebook as your submission. \n",
    "\n",
    "In addition to implementing code, there is a writeup to complete. The writeup should be completed in a separate file, which can be either a markdown file or a pdf document. There is a [write up template](https://github.com/udacity/CarND-Traffic-Sign-Classifier-Project/blob/master/writeup_template.md) that can be used to guide the writing process. Completing the code template and writeup template will cover all of the [rubric points](https://review.udacity.com/#!/rubrics/481/view) for this project.\n",
    "\n",
    "The [rubric](https://review.udacity.com/#!/rubrics/481/view) contains \"Stand Out Suggestions\" for enhancing the project beyond the minimum requirements. The stand out suggestions are optional. If you decide to pursue the \"stand out suggestions\", you can include the code in this Ipython notebook and also discuss the results in the writeup file.\n",
    "\n",
    "\n",
    ">**Note:** Code and Markdown cells can be executed using the **Shift + Enter** keyboard shortcut. In addition, Markdown cells can be edited by typically double-clicking the cell to enter edit mode."
   ]
  },
  {
   "cell_type": "markdown",
   "metadata": {},
   "source": [
    "TODO: \n",
    "    Change the current implementation to do gray scale images and see how it performs. This will require some modification to the \n",
    "    parameters :\n",
    "        - X_train_feature, \n",
    "        - Each Convolutional Layer \n",
    "        - Each Fully Connected layer \n",
    "        - The training and evaluation loops "
   ]
  },
  {
   "cell_type": "markdown",
   "metadata": {},
   "source": [
    "---\n",
    "## Step 0: Load The Data"
   ]
  },
  {
   "cell_type": "code",
   "execution_count": 1,
   "metadata": {},
   "outputs": [
    {
     "name": "stdout",
     "output_type": "stream",
     "text": [
      "/home/workspace/CarND-Traffic-Sign-Classifier-Project\r\n"
     ]
    }
   ],
   "source": [
    "!pwd"
   ]
  },
  {
   "cell_type": "code",
   "execution_count": 2,
   "metadata": {},
   "outputs": [],
   "source": [
    "# Perform all the imports \n",
    "import pickle\n",
    "import pandas as pd\n",
    "import numpy as np\n",
    "import random\n",
    "%matplotlib inline\n",
    "import csv\n",
    "import random as rd \n",
    "import cv2 \n",
    "import glob \n",
    "import matplotlib.pyplot as plt\n",
    "from matplotlib.pyplot import imsave"
   ]
  },
  {
   "cell_type": "code",
   "execution_count": 3,
   "metadata": {},
   "outputs": [],
   "source": [
    "# TODO: Fill this in based on where you saved the training and testing data\n",
    "\n",
    "training_file = '/home/workspace/data/train.p'\n",
    "validation_file= '/home/workspace/data/valid.p'\n",
    "testing_file = '/home/workspace/data/test.p'\n",
    "\n",
    "with open(training_file, mode='rb') as f:\n",
    "    train = pickle.load(f)\n",
    "with open(validation_file, mode='rb') as f:\n",
    "    valid = pickle.load(f)\n",
    "with open(testing_file, mode='rb') as f:\n",
    "    test = pickle.load(f)\n",
    "    \n",
    "X_train, y_train = train['features'], train['labels']\n",
    "X_valid, y_valid = valid['features'], valid['labels']\n",
    "X_test, y_test = test['features'], test['labels']"
   ]
  },
  {
   "cell_type": "code",
   "execution_count": 4,
   "metadata": {
    "scrolled": true
   },
   "outputs": [
    {
     "name": "stdout",
     "output_type": "stream",
     "text": [
      "X_train: (34799, 32, 32, 3)\n",
      "X_valid:  (4410, 32, 32, 3)\n",
      "X_test:  (12630, 32, 32, 3)\n",
      "\n",
      "Y_train:  (34799,)\n",
      "Y_valid:  (4410,)\n",
      "Y_test:  (12630,)\n"
     ]
    }
   ],
   "source": [
    "# Visualise the size of the training, validation and testing splits \n",
    "#Image information\n",
    "print(\"X_train:\", X_train.shape)\n",
    "print(\"X_valid: \", X_valid.shape)\n",
    "print(\"X_test: \", X_test.shape)\n",
    "\n",
    "\n",
    "#Classes information \n",
    "print(\"\\nY_train: \", y_train.shape)\n",
    "print(\"Y_valid: \", y_valid.shape)\n",
    "print(\"Y_test: \", y_test.shape)"
   ]
  },
  {
   "cell_type": "markdown",
   "metadata": {},
   "source": [
    "---\n",
    "\n",
    "## Step 1: Dataset Summary & Exploration\n",
    "\n",
    "The pickled data is a dictionary with 4 key/value pairs:\n",
    "\n",
    "- `'features'` is a 4D array containing raw pixel data of the traffic sign images, (num examples, width, height, channels).\n",
    "- `'labels'` is a 1D array containing the label/class id of the traffic sign. The file `signnames.csv` contains id -> name mappings for each id.\n",
    "- `'sizes'` is a list containing tuples, (width, height) representing the original width and height the image.\n",
    "- `'coords'` is a list containing tuples, (x1, y1, x2, y2) representing coordinates of a bounding box around the sign in the image. **THESE COORDINATES ASSUME THE ORIGINAL IMAGE. THE PICKLED DATA CONTAINS RESIZED VERSIONS (32 by 32) OF THESE IMAGES**\n",
    "\n",
    "Complete the basic data summary below. Use python, numpy and/or pandas methods to calculate the data summary rather than hard coding the results. For example, the [pandas shape method](http://pandas.pydata.org/pandas-docs/stable/generated/pandas.DataFrame.shape.html) might be useful for calculating some of the summary results. "
   ]
  },
  {
   "cell_type": "code",
   "execution_count": 5,
   "metadata": {},
   "outputs": [
    {
     "name": "stdout",
     "output_type": "stream",
     "text": [
      "(32, 32, 3)\n",
      "<class 'numpy.uint8'>\n"
     ]
    }
   ],
   "source": [
    "image_shape = X_train.shape[1:len(X_train.shape)]\n",
    "print(image_shape)\n",
    "print(type(y_train[2]))"
   ]
  },
  {
   "cell_type": "markdown",
   "metadata": {},
   "source": [
    "### Provide a Basic Summary of the Data Set Using Python, Numpy and/or Pandas"
   ]
  },
  {
   "cell_type": "code",
   "execution_count": 6,
   "metadata": {},
   "outputs": [
    {
     "name": "stdout",
     "output_type": "stream",
     "text": [
      "Number of training examples = 34799\n",
      "Number of testing examples = 12630\n",
      "Number of validation examples =  4410\n",
      "Image data shape = (32, 32, 3)\n",
      "Number of classes = 43\n",
      "Classes range from:  (0, 42)\n"
     ]
    }
   ],
   "source": [
    "### Replace each question mark with the appropriate value. \n",
    "### Use python, pandas or numpy methods rather than hard coding the results\n",
    "\n",
    "# TODO: Number of training examples\n",
    "n_train = X_train.shape[0]\n",
    "\n",
    "# TODO: Number of validation examples\n",
    "n_validation = X_valid.shape[0]\n",
    "\n",
    "# TODO: Number of testing examples.\n",
    "n_test = X_test.shape[0]\n",
    "\n",
    "# TODO: What's the shape of an traffic sign image?\n",
    "image_shape = X_train.shape[1:len(X_train.shape)]\n",
    "\n",
    "# TODO: How many unique classes/labels there are in the dataset.\n",
    "n_classes = max(y_train)+1\n",
    "n_class_range = min(y_train), max(y_train)\n",
    "\n",
    "print(\"Number of training examples =\", n_train)\n",
    "print(\"Number of testing examples =\", n_test)\n",
    "print(\"Number of validation examples = \", n_validation)\n",
    "print(\"Image data shape =\", image_shape)\n",
    "print(\"Number of classes =\", n_classes)\n",
    "print(\"Classes range from: \", n_class_range) "
   ]
  },
  {
   "cell_type": "markdown",
   "metadata": {},
   "source": [
    "### Include an exploratory visualization of the dataset"
   ]
  },
  {
   "cell_type": "markdown",
   "metadata": {},
   "source": [
    "Visualize the German Traffic Signs Dataset using the pickled file(s). This is open ended, suggestions include: plotting traffic sign images, plotting the count of each sign, etc. \n",
    "\n",
    "The [Matplotlib](http://matplotlib.org/) [examples](http://matplotlib.org/examples/index.html) and [gallery](http://matplotlib.org/gallery.html) pages are a great resource for doing visualizations in Python.\n",
    "\n",
    "**NOTE:** It's recommended you start with something simple first. If you wish to do more, come back to it after you've completed the rest of the sections. It can be interesting to look at the distribution of classes in the training, validation and test set. Is the distribution the same? Are there more examples of some classes than others?"
   ]
  },
  {
   "cell_type": "code",
   "execution_count": 7,
   "metadata": {},
   "outputs": [
    {
     "data": {
      "text/plain": [
       "Text(0.5,1,'Sample Image Visualization class num: 5')"
      ]
     },
     "execution_count": 7,
     "metadata": {},
     "output_type": "execute_result"
    },
    {
     "data": {
      "image/png": "[encoded data removed]",
      "text/plain": [
       "<matplotlib.figure.Figure at 0x7ff062d159e8>"
      ]
     },
     "metadata": {
      "needs_background": "light"
     },
     "output_type": "display_data"
    }
   ],
   "source": [
    "idx = random.randint(0, len(X_train))\n",
    "image = X_train[idx]\n",
    "\n",
    "# Visualise the figure\n",
    "plt.figure(1)\n",
    "plt.imshow(image)\n",
    "plt.title(\"Sample Image Visualization class num: \" + str(y_train[idx]))"
   ]
  },
  {
   "cell_type": "code",
   "execution_count": 8,
   "metadata": {
    "scrolled": true
   },
   "outputs": [
    {
     "name": "stdout",
     "output_type": "stream",
     "text": [
      "Random integer:  33\n",
      "Image Class:  32\n",
      "Image Description:  End of all speed and passing limits\n"
     ]
    },
    {
     "data": {
      "text/plain": [
       "Text(0.5,1,'End of all speed and passing limits')"
      ]
     },
     "execution_count": 8,
     "metadata": {},
     "output_type": "execute_result"
    },
    {
     "data": {
      "image/png": "[encoded data removed]",
      "text/plain": [
       "<matplotlib.figure.Figure at 0x7ff062cc5208>"
      ]
     },
     "metadata": {
      "needs_background": "light"
     },
     "output_type": "display_data"
    }
   ],
   "source": [
    "randomInt = rd.randint(min(y_train), max(y_train)-1)\n",
    "print(\"Random integer: \", randomInt)\n",
    "\n",
    "# Define path to file \n",
    "PATH_2_SIGNAMES = '/home/workspace/CarND-Traffic-Sign-Classifier-Project/signnames.csv'\n",
    "\n",
    "#Define empty dictionary and empty lists\n",
    "sign_dict = {}\n",
    "sign_class_number = [] \n",
    "sign_class_descriptions =[] \n",
    "\n",
    "with open(PATH_2_SIGNAMES, 'r') as f: \n",
    "    reader = csv.reader(f)\n",
    "    for read in reader:\n",
    "        sign_class_number.append(read[0])   # Class numbers list\n",
    "        sign_class_descriptions.append(read[1]) # Class descriptions list \n",
    "        sign_dict.update({read[0] : read[1]}) # Class Dictionary with both numbers and descriptions\n",
    "\n",
    "        \n",
    "# Print of some information to make sure indexing is correct\n",
    "# Compare this with the .csv file\n",
    "print(\"Image Class: \" , sign_class_number[randomInt])\n",
    "print(\"Image Description: \", sign_class_descriptions[randomInt])\n",
    "plt.figure(2)\n",
    "plt.imshow(X_train[randomInt])\n",
    "plt.title(sign_class_descriptions[randomInt])"
   ]
  },
  {
   "cell_type": "code",
   "execution_count": 9,
   "metadata": {},
   "outputs": [
    {
     "data": {
      "image/png": "[encoded data removed]",
      "text/plain": [
       "<matplotlib.figure.Figure at 0x7ff062c32358>"
      ]
     },
     "metadata": {
      "needs_background": "light"
     },
     "output_type": "display_data"
    },
    {
     "data": {
      "text/plain": [
       "<matplotlib.figure.Figure at 0x7ff062b75a90>"
      ]
     },
     "metadata": {},
     "output_type": "display_data"
    }
   ],
   "source": [
    "# Data visualisation \n",
    "\n",
    "#uni,index,count=np.unique(y_train,return_index=true,return_count=true)\n",
    "class_arr= []\n",
    "samples_arr=[]\n",
    "\n",
    "for class_n in range(n_classes):\n",
    "    class_id = np.where(y_train == class_n)\n",
    "    n_samples = len(class_id[0])\n",
    "    class_arr.append(class_n)\n",
    "    samples_arr.append(n_samples)\n",
    "    \n",
    "#plt.hist(y_train,bins=43)\n",
    "plt.bar( class_arr, samples_arr,align='center', alpha=0.5)\n",
    "plt.ylabel('Classes')\n",
    "plt.xlabel('No of Samples')\n",
    "plt.title('Data Visualisation')\n",
    "plt.show()\n",
    "plt.savefig(\"Data Visualisation\")"
   ]
  },
  {
   "cell_type": "markdown",
   "metadata": {},
   "source": [
    "----\n",
    "\n",
    "## Step 2: Design and Test a Model Architecture\n",
    "\n",
    "Design and implement a deep learning model that learns to recognize traffic signs. Train and test your model on the [German Traffic Sign Dataset](http://benchmark.ini.rub.de/?section=gtsrb&subsection=dataset).\n",
    "\n",
    "The LeNet-5 implementation shown in the [classroom](https://classroom.udacity.com/nanodegrees/nd013/parts/fbf77062-5703-404e-b60c-95b78b2f3f9e/modules/6df7ae49-c61c-4bb2-a23e-6527e69209ec/lessons/601ae704-1035-4287-8b11-e2c2716217ad/concepts/d4aca031-508f-4e0b-b493-e7b706120f81) at the end of the CNN lesson is a solid starting point. You'll have to change the number of classes and possibly the preprocessing, but aside from that it's plug and play! \n",
    "\n",
    "With the LeNet-5 solution from the lecture, you should expect a validation set accuracy of about 0.89. To meet specifications, the validation set accuracy will need to be at least 0.93. It is possible to get an even higher accuracy, but 0.93 is the minimum for a successful project submission. \n",
    "\n",
    "There are various aspects to consider when thinking about this problem:\n",
    "\n",
    "- Neural network architecture (is the network over or underfitting?)\n",
    "- Play around preprocessing techniques (normalization, rgb to grayscale, etc)\n",
    "- Number of examples per label (some have more than others).\n",
    "- Generate fake data.\n",
    "\n",
    "Here is an example of a [published baseline model on this problem](http://yann.lecun.com/exdb/publis/pdf/sermanet-ijcnn-11.pdf). It's not required to be familiar with the approach used in the paper but, it's good practice to try to read papers like these."
   ]
  },
  {
   "cell_type": "markdown",
   "metadata": {},
   "source": [
    "### Pre-process the Data Set (normalization, grayscale, etc.)"
   ]
  },
  {
   "cell_type": "markdown",
   "metadata": {},
   "source": [
    "Minimally, the image data should be normalized so that the data has mean zero and equal variance. For image data, `(pixel - 128)/ 128` is a quick way to approximately normalize the data and can be used in this project. \n",
    "\n",
    "Other pre-processing steps are optional. You can try different techniques to see if it improves performance. \n",
    "\n",
    "Use the code cell (or multiple code cells, if necessary) to implement the first step of your project."
   ]
  },
  {
   "cell_type": "code",
   "execution_count": 10,
   "metadata": {},
   "outputs": [
    {
     "data": {
      "text/plain": [
       "34799"
      ]
     },
     "execution_count": 10,
     "metadata": {},
     "output_type": "execute_result"
    }
   ],
   "source": [
    "len(X_train)"
   ]
  },
  {
   "cell_type": "code",
   "execution_count": 11,
   "metadata": {},
   "outputs": [
    {
     "name": "stdout",
     "output_type": "stream",
     "text": [
      "Random integer:  1\n",
      "Sample Image idx:  12097\n",
      "Sample Image Class:  9\n",
      "Description:  No passing\n"
     ]
    },
    {
     "data": {
      "text/plain": [
       "<matplotlib.image.AxesImage at 0x7ff062ad7438>"
      ]
     },
     "execution_count": 11,
     "metadata": {},
     "output_type": "execute_result"
    },
    {
     "data": {
      "image/png": "[encoded data removed]",
      "text/plain": [
       "<matplotlib.figure.Figure at 0x7ff062b4a400>"
      ]
     },
     "metadata": {
      "needs_background": "light"
     },
     "output_type": "display_data"
    }
   ],
   "source": [
    "# Take a random sample, gray scale and normalise it \n",
    "randomInt = rd.randint(min(y_train), max(y_train)-1)\n",
    "print(\"Random integer: \", randomInt)\n",
    "\n",
    "\n",
    "sample_image_index = rd.randint(0, len(X_train)) \n",
    "sample_image = X_train[sample_image_index]\n",
    "sample_image_class = y_train[sample_image_index]\n",
    "sample_image_class_descrip = sign_class_descriptions[sample_image_class+1]\n",
    "\n",
    "print(\"Sample Image idx: \", sample_image_index)\n",
    "print(\"Sample Image Class: \", sample_image_class)\n",
    "print(\"Description: \", sample_image_class_descrip)\n",
    "plt.figure()\n",
    "plt.imshow(sample_image)\n",
    "\n",
    "# Normalise the image \n",
    "sample_img_normalized = sample_image/255.0\n",
    "\n",
    "# Gray scale the image\n",
    "gray_image = cv2.cvtColor(sample_image, cv2.COLOR_BGR2GRAY)\n",
    "\n",
    "plt.figure(1)\n",
    "plt.imshow(sample_image)"
   ]
  },
  {
   "cell_type": "code",
   "execution_count": 12,
   "metadata": {},
   "outputs": [
    {
     "name": "stdout",
     "output_type": "stream",
     "text": [
      "(34799, 32, 32, 1)\n",
      "(4410, 32, 32, 1)\n",
      "(12630, 32, 32, 1)\n"
     ]
    }
   ],
   "source": [
    "def reshape_images(imgs): \n",
    "    \n",
    "    def gray(src): \n",
    "        if src.dtype == np.uint8: \n",
    "            src = np.array(src/255.0, dtype = np.float32) \n",
    "        dst= cv2.cvtColor(src, cv2.COLOR_BGR2GRAY) \n",
    "        return dst.reshape(32, 32, 1)\n",
    "    \n",
    "    normalized = [gray(img) for img in imgs] \n",
    "    return np.array(normalized) \n",
    "\n",
    "# Define the new gray scale and normalized feature sets \n",
    "\n",
    "# Training sets \n",
    "X_train_feature = reshape_images(X_train)\n",
    "X_train.shape\n",
    "print(X_train_feature.shape)\n",
    "\n",
    "# Validation sets \n",
    "X_valid_feature = reshape_images(X_valid)\n",
    "print(X_valid_feature.shape)\n",
    "\n",
    "# Testing set \n",
    "X_test_feature = reshape_images(X_test)\n",
    "print(X_test_feature.shape)"
   ]
  },
  {
   "cell_type": "code",
   "execution_count": 13,
   "metadata": {},
   "outputs": [],
   "source": [
    "# Shuffle the data around \n",
    "from sklearn.utils import shuffle\n",
    "X_train, y_train = shuffle(X_train, y_train)"
   ]
  },
  {
   "cell_type": "markdown",
   "metadata": {},
   "source": [
    "## Model Architecture"
   ]
  },
  {
   "cell_type": "code",
   "execution_count": 14,
   "metadata": {},
   "outputs": [],
   "source": [
    "# Import the libraries \n",
    "import tensorflow as tf\n",
    "from tensorflow.contrib.layers import flatten \n",
    "\n",
    "# Define some of the hyper parameters for the LeNet CNN \n",
    "EPOCHS = 75 # number of times the data will train\n",
    "BATCH_SIZE = 250 # the number of training images to run through the network at once   \n"
   ]
  },
  {
   "cell_type": "code",
   "execution_count": 15,
   "metadata": {},
   "outputs": [],
   "source": [
    "def LeNet(x):    \n",
    "    # Arguments used for tf.truncated_normal, randomly defines variables for the weights and biases for each layer\n",
    "    mu = 0\n",
    "    sigma = 0.1\n",
    "    # Layer 1: Convolutional. Input = 32x32x3. Output = 28x28x6.\n",
    "    conv1_W= tf.Variable(tf.truncated_normal(shape=(5,5,3,6), mean=mu, stddev=sigma))\n",
    "    conv1_b= tf.Variable(tf.zeros(6))\n",
    "    conv1= tf.nn.conv2d(x,conv1_W,strides=[1,1,1,1],padding='VALID',use_cudnn_on_gpu=True) + conv1_b\n",
    "    # Activation.\n",
    "    conv1= tf.nn.relu(conv1)\n",
    "    # Layer 2: Convolutional. Input = 28x28x6. Output = 14x14x10.\n",
    "    conv2_W= tf.Variable(tf.truncated_normal(shape=(5,5,6,10), mean=mu, stddev=sigma))\n",
    "    conv2_b= tf.Variable(tf.zeros(10))\n",
    "    conv2= tf.nn.conv2d(conv1,conv2_W,strides=[1,2,2,1],padding='VALID',use_cudnn_on_gpu=True) + conv2_b\n",
    "    # Activation.\n",
    "    conv2= tf.nn.relu(conv2)\n",
    "    # Layer 3: Convolutional. Input = 14x14x10. Output = 8x8x16.\n",
    "    conv3_W= tf.Variable(tf.truncated_normal(shape=(5,5,10,16),mean=mu,stddev=sigma))\n",
    "    conv3_b=tf.Variable(tf.zeros(16))\n",
    "    conv3= tf.nn.conv2d(conv2,conv3_W,strides=[1,1,1,1],padding='VALID',use_cudnn_on_gpu=True) + conv3_b\n",
    "    # Activation.\n",
    "    conv3= tf.nn.relu(conv3)\n",
    "    # Pooling. Input = 8x8x16. Output = 4x4x16.\n",
    "    conv3= tf.nn.max_pool(conv3,ksize=[1,2,2,1],strides=[1,2,2,1],padding='VALID')\n",
    "    # Flatten. Input = 4x4x16. Output = 256.\n",
    "    f= flatten(conv3)\n",
    "    # Layer 4: Fully Connected. Input = 256. Output = 120.\n",
    "    fc1_W= tf.Variable(tf.truncated_normal(shape=(int(np.shape(f)[1]),120),mean=mu,stddev=sigma))\n",
    "    fc1_b= tf.Variable(tf.zeros(shape=120))\n",
    "    fc1= tf.matmul(f,fc1_W) + fc1_b\n",
    "    # Activation.\n",
    "    fc1= tf.nn.relu(fc1)   \n",
    "    # Introduce Dropout after first fully connected layer\n",
    "    fc1 = tf.nn.dropout(fc1, keep_prob)\n",
    "    # Layer 5: Fully Connected. Input = 120. Output = 100.\n",
    "    fc2_W= tf.Variable(tf.truncated_normal(shape=(120,100),mean=mu,stddev=sigma))\n",
    "    fc2_b= tf.Variable(tf.zeros(100))\n",
    "    fc2= tf.matmul(fc1,fc2_W) + fc2_b   \n",
    "    # Activation.\n",
    "    fc2= tf.nn.relu(fc2)  \n",
    "    # Layer 6: Fully Connected. Input = 100. Output = 84.\n",
    "    fc3_W= tf.Variable(tf.truncated_normal(shape=(100,84),mean=mu,stddev=sigma))\n",
    "    fc3_b= tf.Variable(tf.zeros(84))\n",
    "    fc3= tf.matmul(fc2,fc3_W) + fc3_b  \n",
    "    # Activation.\n",
    "    fc3= tf.nn.relu(fc3)  \n",
    "    # Layer 7: Fully Connected. Input = 84. Output = 43.\n",
    "    fc4_W= tf.Variable(tf.truncated_normal(shape=(84,43),mean=mu,stddev=sigma))\n",
    "    fc4_b= tf.Variable(tf.zeros(43))\n",
    "    fc4= tf.matmul(fc3,fc4_W) + fc4_b \n",
    "    logits=fc4      \n",
    "    return logits"
   ]
  },
  {
   "cell_type": "markdown",
   "metadata": {},
   "source": [
    "### Features and Labels "
   ]
  },
  {
   "cell_type": "code",
   "execution_count": 16,
   "metadata": {},
   "outputs": [],
   "source": [
    "x = tf.placeholder(tf.float32, (None, 32, 32, 3))\n",
    "y = tf.placeholder(tf.int32, (None))\n",
    "one_hot_y = tf.one_hot(y, 43) # one hot encoding for output labels\n",
    "keep_prob = tf.placeholder(tf.float32) # defining the dropout probability after fully connected layer in the architecture"
   ]
  },
  {
   "cell_type": "code",
   "execution_count": 17,
   "metadata": {},
   "outputs": [
    {
     "name": "stdout",
     "output_type": "stream",
     "text": [
      "43\n"
     ]
    }
   ],
   "source": [
    "print(n_classes)"
   ]
  },
  {
   "cell_type": "markdown",
   "metadata": {},
   "source": [
    "### Model Evaluation"
   ]
  },
  {
   "cell_type": "code",
   "execution_count": 18,
   "metadata": {},
   "outputs": [],
   "source": [
    "rate = 0.0009 #learning rate\n",
    "\n",
    "#defining various operations\n",
    "logits = LeNet(x) \n",
    "cross_entropy = tf.nn.softmax_cross_entropy_with_logits(labels=one_hot_y, logits=logits)\n",
    "loss_operation = tf.reduce_mean(cross_entropy)\n",
    "optimizer = tf.train.AdamOptimizer(learning_rate = rate)\n",
    "training_operation = optimizer.minimize(loss_operation)"
   ]
  },
  {
   "cell_type": "code",
   "execution_count": 19,
   "metadata": {},
   "outputs": [],
   "source": [
    "correct_prediction = tf.equal(tf.argmax(logits, 1), tf.argmax(one_hot_y, 1))\n",
    "accuracy_operation = tf.reduce_mean(tf.cast(correct_prediction, tf.float32))\n",
    "saver = tf.train.Saver()\n",
    "\n",
    "def evaluate(X_data, y_data):\n",
    "    num_examples = len(X_data)\n",
    "    total_accuracy = 0\n",
    "    total_loss=0\n",
    "    sess = tf.get_default_session()\n",
    "    for offset in range(0, num_examples, BATCH_SIZE):\n",
    "        batch_x, batch_y = X_data[offset:offset+BATCH_SIZE], y_data[offset:offset+BATCH_SIZE]\n",
    "        accuracy,loss = sess.run([accuracy_operation,loss_operation],feed_dict={x: batch_x, y: batch_y,keep_prob:1})\n",
    "        total_accuracy += (accuracy * len(batch_x))\n",
    "        total_loss+= (loss*len(batch_x)) # getting the total loss to plot a graph later\n",
    "    return total_accuracy / num_examples, total_loss/num_examples"
   ]
  },
  {
   "cell_type": "markdown",
   "metadata": {},
   "source": [
    "### Train, Validate and Test the Model"
   ]
  },
  {
   "cell_type": "markdown",
   "metadata": {},
   "source": [
    "A validation set can be used to assess how well the model is performing. A low accuracy on the training and validation\n",
    "sets imply underfitting. A high accuracy on the training set but low accuracy on the validation set implies overfitting."
   ]
  },
  {
   "cell_type": "code",
   "execution_count": 20,
   "metadata": {},
   "outputs": [
    {
     "name": "stdout",
     "output_type": "stream",
     "text": [
      "Training...\n",
      "\n",
      "EPOCH 1 ...\n",
      "Validation Accuracy = 0.315\n",
      "\n",
      "EPOCH 2 ...\n",
      "Validation Accuracy = 0.623\n",
      "\n",
      "EPOCH 3 ...\n",
      "Validation Accuracy = 0.765\n",
      "\n",
      "EPOCH 4 ...\n",
      "Validation Accuracy = 0.838\n",
      "\n",
      "EPOCH 5 ...\n",
      "Validation Accuracy = 0.854\n",
      "\n",
      "EPOCH 6 ...\n",
      "Validation Accuracy = 0.883\n",
      "\n",
      "EPOCH 7 ...\n",
      "Validation Accuracy = 0.892\n",
      "\n",
      "EPOCH 8 ...\n",
      "Validation Accuracy = 0.901\n",
      "\n",
      "EPOCH 9 ...\n",
      "Validation Accuracy = 0.906\n",
      "\n",
      "EPOCH 10 ...\n",
      "Validation Accuracy = 0.908\n",
      "\n",
      "EPOCH 11 ...\n",
      "Validation Accuracy = 0.922\n",
      "\n",
      "EPOCH 12 ...\n",
      "Validation Accuracy = 0.921\n",
      "\n",
      "EPOCH 13 ...\n",
      "Validation Accuracy = 0.927\n",
      "\n",
      "EPOCH 14 ...\n",
      "Validation Accuracy = 0.918\n",
      "\n",
      "EPOCH 15 ...\n",
      "Validation Accuracy = 0.937\n",
      "\n",
      "EPOCH 16 ...\n",
      "Validation Accuracy = 0.937\n",
      "\n",
      "EPOCH 17 ...\n",
      "Validation Accuracy = 0.938\n",
      "\n",
      "EPOCH 18 ...\n",
      "Validation Accuracy = 0.939\n",
      "\n",
      "EPOCH 19 ...\n",
      "Validation Accuracy = 0.921\n",
      "\n",
      "EPOCH 20 ...\n",
      "Validation Accuracy = 0.936\n",
      "\n",
      "EPOCH 21 ...\n",
      "Validation Accuracy = 0.941\n",
      "\n",
      "EPOCH 22 ...\n",
      "Validation Accuracy = 0.941\n",
      "\n",
      "EPOCH 23 ...\n",
      "Validation Accuracy = 0.950\n",
      "\n",
      "EPOCH 24 ...\n",
      "Validation Accuracy = 0.937\n",
      "\n",
      "EPOCH 25 ...\n",
      "Validation Accuracy = 0.946\n",
      "\n",
      "EPOCH 26 ...\n",
      "Validation Accuracy = 0.943\n",
      "\n",
      "EPOCH 27 ...\n",
      "Validation Accuracy = 0.946\n",
      "\n",
      "EPOCH 28 ...\n",
      "Validation Accuracy = 0.940\n",
      "\n",
      "EPOCH 29 ...\n",
      "Validation Accuracy = 0.942\n",
      "\n",
      "EPOCH 30 ...\n",
      "Validation Accuracy = 0.943\n",
      "\n",
      "EPOCH 31 ...\n",
      "Validation Accuracy = 0.953\n",
      "\n",
      "EPOCH 32 ...\n",
      "Validation Accuracy = 0.951\n",
      "\n",
      "EPOCH 33 ...\n",
      "Validation Accuracy = 0.945\n",
      "\n",
      "EPOCH 34 ...\n",
      "Validation Accuracy = 0.947\n",
      "\n",
      "EPOCH 35 ...\n",
      "Validation Accuracy = 0.952\n",
      "\n",
      "EPOCH 36 ...\n",
      "Validation Accuracy = 0.947\n",
      "\n",
      "EPOCH 37 ...\n",
      "Validation Accuracy = 0.955\n",
      "\n",
      "EPOCH 38 ...\n",
      "Validation Accuracy = 0.949\n",
      "\n",
      "EPOCH 39 ...\n",
      "Validation Accuracy = 0.955\n",
      "\n",
      "EPOCH 40 ...\n",
      "Validation Accuracy = 0.938\n",
      "\n",
      "EPOCH 41 ...\n",
      "Validation Accuracy = 0.954\n",
      "\n",
      "EPOCH 42 ...\n",
      "Validation Accuracy = 0.944\n",
      "\n",
      "EPOCH 43 ...\n",
      "Validation Accuracy = 0.956\n",
      "\n",
      "EPOCH 44 ...\n",
      "Validation Accuracy = 0.949\n",
      "\n",
      "EPOCH 45 ...\n",
      "Validation Accuracy = 0.947\n",
      "\n",
      "EPOCH 46 ...\n",
      "Validation Accuracy = 0.955\n",
      "\n",
      "EPOCH 47 ...\n",
      "Validation Accuracy = 0.957\n",
      "\n",
      "EPOCH 48 ...\n",
      "Validation Accuracy = 0.956\n",
      "\n",
      "EPOCH 49 ...\n",
      "Validation Accuracy = 0.944\n",
      "\n",
      "EPOCH 50 ...\n",
      "Validation Accuracy = 0.956\n",
      "\n",
      "EPOCH 51 ...\n",
      "Validation Accuracy = 0.951\n",
      "\n",
      "EPOCH 52 ...\n",
      "Validation Accuracy = 0.954\n",
      "\n",
      "EPOCH 53 ...\n",
      "Validation Accuracy = 0.960\n",
      "\n",
      "EPOCH 54 ...\n",
      "Validation Accuracy = 0.961\n",
      "\n",
      "EPOCH 55 ...\n",
      "Validation Accuracy = 0.953\n",
      "\n",
      "EPOCH 56 ...\n",
      "Validation Accuracy = 0.951\n",
      "\n",
      "EPOCH 57 ...\n",
      "Validation Accuracy = 0.959\n",
      "\n",
      "EPOCH 58 ...\n",
      "Validation Accuracy = 0.957\n",
      "\n",
      "EPOCH 59 ...\n",
      "Validation Accuracy = 0.956\n",
      "\n",
      "EPOCH 60 ...\n",
      "Validation Accuracy = 0.957\n",
      "\n",
      "EPOCH 61 ...\n",
      "Validation Accuracy = 0.954\n",
      "\n",
      "EPOCH 62 ...\n",
      "Validation Accuracy = 0.962\n",
      "\n",
      "EPOCH 63 ...\n",
      "Validation Accuracy = 0.956\n",
      "\n",
      "EPOCH 64 ...\n",
      "Validation Accuracy = 0.956\n",
      "\n",
      "EPOCH 65 ...\n",
      "Validation Accuracy = 0.956\n",
      "\n",
      "EPOCH 66 ...\n",
      "Validation Accuracy = 0.955\n",
      "\n",
      "EPOCH 67 ...\n",
      "Validation Accuracy = 0.955\n",
      "\n",
      "EPOCH 68 ...\n",
      "Validation Accuracy = 0.957\n",
      "\n",
      "EPOCH 69 ...\n",
      "Validation Accuracy = 0.958\n",
      "\n",
      "EPOCH 70 ...\n",
      "Validation Accuracy = 0.963\n",
      "\n",
      "EPOCH 71 ...\n",
      "Validation Accuracy = 0.964\n",
      "\n",
      "EPOCH 72 ...\n",
      "Validation Accuracy = 0.965\n",
      "\n",
      "EPOCH 73 ...\n",
      "Validation Accuracy = 0.954\n",
      "\n",
      "EPOCH 74 ...\n",
      "Validation Accuracy = 0.967\n",
      "\n",
      "EPOCH 75 ...\n",
      "Validation Accuracy = 0.960\n",
      "\n"
     ]
    },
    {
     "data": {
      "image/png": "[encoded data removed]",
      "text/plain": [
       "<matplotlib.figure.Figure at 0x7ff062c6d2e8>"
      ]
     },
     "metadata": {
      "needs_background": "light"
     },
     "output_type": "display_data"
    },
    {
     "name": "stdout",
     "output_type": "stream",
     "text": [
      "Model saved\n"
     ]
    }
   ],
   "source": [
    "# X_train_feature, y_train = shuffle(X_train_feature, y_train)\n",
    "\n",
    "with tf.Session() as sess:\n",
    "    sess.run(tf.global_variables_initializer())\n",
    "    num_examples = len(X_train)\n",
    "    \n",
    "    print(\"Training...\")\n",
    "    print()\n",
    "    loss_Acc=[]\n",
    "    for i in range(EPOCHS):\n",
    "        X_train, y_train = shuffle(X_train, y_train)\n",
    "        for offset in range(0, num_examples, BATCH_SIZE):\n",
    "            end = offset + BATCH_SIZE\n",
    "            batch_x, batch_y = X_train[offset:end], y_train[offset:end]\n",
    "            sess.run(training_operation, feed_dict={x: batch_x, y: batch_y,keep_prob:0.5})\n",
    "            \n",
    "        validation_accuracy,loss_acc = evaluate(X_valid, y_valid)\n",
    "       \n",
    "        print(\"EPOCH {} ...\".format(i+1))\n",
    "        loss_Acc.append(loss_acc)\n",
    "        print(\"Validation Accuracy = {:.3f}\".format(validation_accuracy))\n",
    "        print()\n",
    "    plt.plot(range(0,EPOCHS),loss_Acc)\n",
    "    plt.ylabel('Loss')\n",
    "    plt.xlabel('Epochs')\n",
    "    plt.grid(True)\n",
    "    plt.show()\n",
    "    saver.save(sess, './trafficTest')\n",
    "    print(\"Model saved\")"
   ]
  },
  {
   "cell_type": "markdown",
   "metadata": {},
   "source": [
    "### Evaluate the Model"
   ]
  },
  {
   "cell_type": "code",
   "execution_count": 21,
   "metadata": {},
   "outputs": [
    {
     "data": {
      "text/plain": [
       "((12630, 32, 32, 1), (12630,))"
      ]
     },
     "execution_count": 21,
     "metadata": {},
     "output_type": "execute_result"
    }
   ],
   "source": [
    "X_test_feature.shape, y_test.shape"
   ]
  },
  {
   "cell_type": "code",
   "execution_count": 22,
   "metadata": {},
   "outputs": [
    {
     "name": "stdout",
     "output_type": "stream",
     "text": [
      "INFO:tensorflow:Restoring parameters from ./trafficTest\n",
      "Test Accuracy = 0.947\n"
     ]
    }
   ],
   "source": [
    "with tf.Session() as sess:\n",
    "    saver.restore(sess, tf.train.latest_checkpoint('.'))\n",
    "    test_accuracy = evaluate(X_test, y_test)\n",
    "    print(\"Test Accuracy = {:.3f}\".format(test_accuracy[0]))"
   ]
  },
  {
   "cell_type": "code",
   "execution_count": 23,
   "metadata": {},
   "outputs": [],
   "source": [
    "### Calculate and report the accuracy on the training and validation set.\n",
    "### Once a final model architecture is selected, \n",
    "### the accuracy on the test set should be calculated and reported as well.\n",
    "### Feel free to use as many code cells as needed."
   ]
  },
  {
   "cell_type": "markdown",
   "metadata": {},
   "source": [
    "---\n",
    "\n",
    "## Step 3: Test a Model on New Images\n",
    "\n",
    "To give yourself more insight into how your model is working, download at least five pictures of German traffic signs from the web and use your model to predict the traffic sign type.\n",
    "\n",
    "You may find `signnames.csv` useful as it contains mappings from the class id (integer) to the actual sign name."
   ]
  },
  {
   "cell_type": "markdown",
   "metadata": {},
   "source": [
    "## Load and Output the Images"
   ]
  },
  {
   "cell_type": "markdown",
   "metadata": {},
   "source": [
    "### Load the images and plot them here.\n",
    "\n",
    "For this is went to the wikipedia web page and selected 5 images. \n",
    "I then downloaded these images onto my local drive. Stored them in a file and then\n",
    "pushed them to github. I then downloaded them from github onto the jupyter notebook \n",
    "and performed my image processing on them aka : resizing and reshapeing"
   ]
  },
  {
   "cell_type": "code",
   "execution_count": 24,
   "metadata": {},
   "outputs": [
    {
     "name": "stdout",
     "output_type": "stream",
     "text": [
      "Number of images loaded from WIKI:  6\n"
     ]
    }
   ],
   "source": [
    "images = [cv2.imread(file) for file in glob.glob('/home/workspace/CarND-Traffic-Sign-Classifier-Project/German_Traffic_Sign_data/Original Dataset/*png')]\n",
    "print(\"Number of images loaded from WIKI: \", len(images))"
   ]
  },
  {
   "cell_type": "markdown",
   "metadata": {},
   "source": [
    "Perform Image Pre-processing on the images including resizing. No Gray scale was done as this CNN was trained with RGB colors. "
   ]
  },
  {
   "cell_type": "code",
   "execution_count": 25,
   "metadata": {},
   "outputs": [
    {
     "name": "stdout",
     "output_type": "stream",
     "text": [
      "\n",
      "Resized Images\n",
      "Image 0 is size:  (32, 32, 3)\n",
      "Image 1 is size:  (32, 32, 3)\n",
      "Image 2 is size:  (32, 32, 3)\n",
      "Image 3 is size:  (32, 32, 3)\n",
      "Image 4 is size:  (32, 32, 3)\n",
      "Image 5 is size:  (32, 32, 3)\n"
     ]
    }
   ],
   "source": [
    "#Resize the images so they are the same size as the other images \n",
    "resize = (32, 32)\n",
    "img0 =  cv2.resize(images[0], resize)\n",
    "img1 = cv2.resize(images[1], resize)\n",
    "img2= cv2.resize(images[2], resize) # Image isn't in the class ID's/descriptions\n",
    "img3= cv2.resize(images[3], resize)\n",
    "img4 = cv2.resize(images[4], resize)\n",
    "img5 = cv2.resize(images[5], resize)\n",
    "# img6 =  cv2.resize(images[6], resize)\n",
    "\n",
    "print(\"\\nResized Images\")\n",
    "print(\"Image 0 is size: \" , img0.shape)\n",
    "print(\"Image 1 is size: \", img1.shape)\n",
    "print(\"Image 2 is size: \", img2.shape)\n",
    "print(\"Image 3 is size: \" , img3.shape)\n",
    "print(\"Image 4 is size: \" , img4.shape)\n",
    "print(\"Image 5 is size: \" , img5.shape)\n",
    "# print(\"Image 6 is size: \" , img6.shape)\n",
    "\n",
    "\n",
    "img_array = [img0, img1, img2, img3, img4, img5]\n",
    "img_array = np.array(img_array, dtype = np.uint8)\n",
    "y_newclasses_descriptions = [sign_class_descriptions[2],\n",
    "               sign_class_descriptions[28], \n",
    "               sign_class_descriptions[13],\n",
    "              sign_class_descriptions[32],\n",
    "              sign_class_descriptions[34],\n",
    "              sign_class_descriptions[15]]\n",
    "y_new_classes = [1, 27, 12, 31, 33, 14] \n",
    "y_new_classes = np.array(y_new_classes, dtype = np.uint8) "
   ]
  },
  {
   "cell_type": "code",
   "execution_count": 34,
   "metadata": {},
   "outputs": [],
   "source": [
    "# # Plot all the images before resizing the images \n",
    "# count = 1\n",
    "# testing_images = []\n",
    "# for i in range(len(img_array)):\n",
    "#     plt.figure(count)\n",
    "#     plt.imshow(img_array[i])\n",
    "#     plt.title(y_newclasses_descriptions[i] + \" Image Shape: \" + str(img_array[i].shape))\n",
    "#     count+= 1"
   ]
  },
  {
   "cell_type": "code",
   "execution_count": 35,
   "metadata": {},
   "outputs": [
    {
     "name": "stdout",
     "output_type": "stream",
     "text": [
      "Class ID:  14 uint8\n"
     ]
    },
    {
     "data": {
      "image/png": "[encoded data removed]",
      "text/plain": [
       "<matplotlib.figure.Figure at 0x7ff042657390>"
      ]
     },
     "metadata": {
      "needs_background": "light"
     },
     "output_type": "display_data"
    }
   ],
   "source": [
    "plt.figure()\n",
    "plt.imshow(img_array[5])\n",
    "plt.title(y_newclasses_descriptions[5])\n",
    "print(\"Class ID: \", y_new_classes[5], img_array[5].dtype)"
   ]
  },
  {
   "cell_type": "code",
   "execution_count": 36,
   "metadata": {},
   "outputs": [
    {
     "data": {
      "image/png": "[encoded data removed]",
      "text/plain": [
       "<matplotlib.figure.Figure at 0x7ff0426216d8>"
      ]
     },
     "metadata": {
      "needs_background": "light"
     },
     "output_type": "display_data"
    },
    {
     "data": {
      "image/png": "[encoded data removed]",
      "text/plain": [
       "<matplotlib.figure.Figure at 0x7ff0437e2b00>"
      ]
     },
     "metadata": {
      "needs_background": "light"
     },
     "output_type": "display_data"
    },
    {
     "data": {
      "image/png": "[encoded data removed]",
      "text/plain": [
       "<matplotlib.figure.Figure at 0x7ff0426e0588>"
      ]
     },
     "metadata": {
      "needs_background": "light"
     },
     "output_type": "display_data"
    },
    {
     "data": {
      "image/png": "[encoded data removed]",
      "text/plain": [
       "<matplotlib.figure.Figure at 0x7ff04272c198>"
      ]
     },
     "metadata": {
      "needs_background": "light"
     },
     "output_type": "display_data"
    },
    {
     "data": {
      "image/png": "[encoded data removed]",
      "text/plain": [
       "<matplotlib.figure.Figure at 0x7ff042739588>"
      ]
     },
     "metadata": {
      "needs_background": "light"
     },
     "output_type": "display_data"
    },
    {
     "data": {
      "image/png": "[encoded data removed]",
      "text/plain": [
       "<matplotlib.figure.Figure at 0x7ff0424ce978>"
      ]
     },
     "metadata": {
      "needs_background": "light"
     },
     "output_type": "display_data"
    }
   ],
   "source": [
    "count = 0\n",
    "testing_images = []\n",
    "for i in range(len(img_array)):\n",
    "    image = img_array[i]\n",
    "    testing_images.append(image)\n",
    "    plt.figure(count)\n",
    "    plt.imshow(img_array[count])\n",
    "    plt.title(y_newclasses_descriptions[count] + str(\" Class ID: \") + str(y_new_classes[count]))\n",
    "    count += 1"
   ]
  },
  {
   "cell_type": "code",
   "execution_count": 37,
   "metadata": {
    "scrolled": true
   },
   "outputs": [
    {
     "name": "stdout",
     "output_type": "stream",
     "text": [
      "\n",
      "Training Image Shape:  (34799, 32, 32, 3)\n",
      "Testing  Image Shape:  (12630, 32, 32, 3)\n",
      "Testing2 Image Shape:  (6, 32, 32, 3)\n",
      "\n",
      "Training Classes Shape:  (34799,)\n",
      "Testing  Classes Shape:  (12630,)\n",
      "Testing2 Classes Shape:  (6,)\n",
      "\n",
      "Training Classes Dtype:  uint8\n",
      "Testing  Classes Dtype:  uint8\n",
      "Testing2 Classes Dtype:  uint8\n",
      "\n",
      "Training Classes Dtype:  uint8\n",
      "Testing  Classes Dtype:  uint8\n",
      "Testing2 Classes Dtype:  uint8\n"
     ]
    }
   ],
   "source": [
    "# Data comparison before feeding through the CNN\n",
    "print(\"\\nTraining Image Shape: \", X_train.shape)\n",
    "print(\"Testing  Image Shape: \", X_test.shape)\n",
    "print(\"Testing2 Image Shape: \", img_array.shape)\n",
    "print(\"\\nTraining Classes Shape: \", y_train.shape)\n",
    "print(\"Testing  Classes Shape: \", y_test.shape)\n",
    "print(\"Testing2 Classes Shape: \", y_new_classes.shape)\n",
    "\n",
    "print(\"\\nTraining Classes Dtype: \", X_train[0].dtype)\n",
    "print(\"Testing  Classes Dtype: \", X_test[0].dtype)\n",
    "print(\"Testing2 Classes Dtype: \", img_array[0].dtype)\n",
    "print(\"\\nTraining Classes Dtype: \", y_train.dtype)\n",
    "print(\"Testing  Classes Dtype: \", y_test.dtype)\n",
    "print(\"Testing2 Classes Dtype: \", y_new_classes.dtype)"
   ]
  },
  {
   "cell_type": "markdown",
   "metadata": {},
   "source": [
    "### Predict the Sign Type for Each Image"
   ]
  },
  {
   "cell_type": "code",
   "execution_count": 30,
   "metadata": {},
   "outputs": [
    {
     "name": "stdout",
     "output_type": "stream",
     "text": [
      "[ 1 27 12 31 33 14]\n",
      "1\n",
      "Speed limit (30km/h)\n",
      "(6, 32, 32, 3) (6,)\n",
      "uint8 uint8\n"
     ]
    }
   ],
   "source": [
    "print(y_new_classes)\n",
    "print(sign_class_number[2])\n",
    "print(sign_class_descriptions[2])\n",
    "print(img_array.shape, y_new_classes.shape)\n",
    "print(img_array.dtype, y_new_classes.dtype)"
   ]
  },
  {
   "cell_type": "markdown",
   "metadata": {},
   "source": [
    "### Analyze Performance"
   ]
  },
  {
   "cell_type": "code",
   "execution_count": 31,
   "metadata": {},
   "outputs": [
    {
     "name": "stdout",
     "output_type": "stream",
     "text": [
      "INFO:tensorflow:Restoring parameters from ./trafficTest\n",
      "Test Accuracy = 0.167\n"
     ]
    }
   ],
   "source": [
    "### Calculate the accuracy for these 5 new images. \n",
    "### For example, if the model predicted 1 out of 5 signs correctly, it's 20% accurate on these new images.\n",
    "with tf.Session() as sess:\n",
    "    saver.restore(sess, tf.train.latest_checkpoint('.'))\n",
    "    test_accuracy = evaluate(img_array, y_new_classes)\n",
    "    print(\"Test Accuracy = {:.3f}\".format(test_accuracy[0]))"
   ]
  },
  {
   "cell_type": "markdown",
   "metadata": {},
   "source": [
    "### Output Top 5 Softmax Probabilities For Each Image Found on the Web"
   ]
  },
  {
   "cell_type": "markdown",
   "metadata": {},
   "source": [
    "For each of the new images, print out the model's softmax probabilities to show the **certainty** of the model's predictions (limit the output to the top 5 probabilities for each image). [`tf.nn.top_k`](https://www.tensorflow.org/versions/r0.12/api_docs/python/nn.html#top_k) could prove helpful here. \n",
    "\n",
    "The example below demonstrates how tf.nn.top_k can be used to find the top k predictions for each image.\n",
    "\n",
    "`tf.nn.top_k` will return the values and indices (class ids) of the top k predictions. So if k=3, for each sign, it'll return the 3 largest probabilities (out of a possible 43) and the correspoding class ids.\n",
    "\n",
    "Take this numpy array as an example. The values in the array represent predictions. The array contains softmax probabilities for five candidate images with six possible classes. `tf.nn.top_k` is used to choose the three classes with the highest probability:\n",
    "\n",
    "```\n",
    "# (5, 6) array\n",
    "a = np.array([[ 0.24879643,  0.07032244,  0.12641572,  0.34763842,  0.07893497,\n",
    "         0.12789202],\n",
    "       [ 0.28086119,  0.27569815,  0.08594638,  0.0178669 ,  0.18063401,\n",
    "         0.15899337],\n",
    "       [ 0.26076848,  0.23664738,  0.08020603,  0.07001922,  0.1134371 ,\n",
    "         0.23892179],\n",
    "       [ 0.11943333,  0.29198961,  0.02605103,  0.26234032,  0.1351348 ,\n",
    "         0.16505091],\n",
    "       [ 0.09561176,  0.34396535,  0.0643941 ,  0.16240774,  0.24206137,\n",
    "         0.09155967]])\n",
    "```\n",
    "\n",
    "Running it through `sess.run(tf.nn.top_k(tf.constant(a), k=3))` produces:\n",
    "\n",
    "```\n",
    "TopKV2(values=array([[ 0.34763842,  0.24879643,  0.12789202],\n",
    "       [ 0.28086119,  0.27569815,  0.18063401],\n",
    "       [ 0.26076848,  0.23892179,  0.23664738],\n",
    "       [ 0.29198961,  0.26234032,  0.16505091],\n",
    "       [ 0.34396535,  0.24206137,  0.16240774]]), indices=array([[3, 0, 5],\n",
    "       [0, 1, 4],\n",
    "       [0, 5, 1],\n",
    "       [1, 3, 5],\n",
    "       [1, 4, 3]], dtype=int32))\n",
    "```\n",
    "\n",
    "Looking just at the first row we get `[ 0.34763842,  0.24879643,  0.12789202]`, you can confirm these are the 3 largest probabilities in `a`. You'll also notice `[3, 0, 5]` are the corresponding indices."
   ]
  },
  {
   "cell_type": "code",
   "execution_count": 32,
   "metadata": {},
   "outputs": [
    {
     "name": "stdout",
     "output_type": "stream",
     "text": [
      "INFO:tensorflow:Restoring parameters from ./trafficTest\n",
      "[[  1.33401330e-03   9.91776943e-01   6.69229439e-06   4.08132486e-11\n",
      "    3.70350463e-05   8.19111392e-08   1.17950105e-09   2.53952112e-05\n",
      "    3.13794953e-06   7.28005156e-11   7.55527368e-14   1.85099651e-08\n",
      "    1.66221898e-08   6.35185723e-11   5.25955590e-09   1.87254465e-11\n",
      "    3.56006141e-10   8.90983554e-09   5.79675952e-06   2.38903340e-07\n",
      "    6.42556277e-12   1.33852845e-05   1.43299259e-13   2.54502073e-08\n",
      "    5.14457838e-07   4.56488625e-09   5.03354823e-11   1.87236071e-09\n",
      "    1.20788730e-08   1.29780645e-07   3.74720838e-10   6.79543708e-03\n",
      "    1.23043578e-12   3.73083608e-09   8.88519727e-12   1.20378540e-10\n",
      "    1.01003406e-09   4.06118923e-11   1.09459247e-10   8.49670187e-07\n",
      "    2.61454517e-07   1.28537252e-12   2.00964190e-10]\n",
      " [  1.44958622e-05   9.99659657e-01   1.12776866e-06   7.83630784e-16\n",
      "    3.21102329e-04   2.51540496e-06   4.57205163e-10   1.18919108e-09\n",
      "    1.05476576e-12   3.00591108e-16   1.51089052e-16   7.61270929e-14\n",
      "    3.59132168e-10   9.25017441e-12   1.42848678e-12   1.46560014e-10\n",
      "    1.35531341e-18   6.66133815e-13   1.12362848e-07   1.03587888e-16\n",
      "    6.22756358e-17   5.32493768e-14   1.19859217e-15   8.11453196e-17\n",
      "    9.33970715e-15   2.19078533e-09   1.45583068e-12   1.61151578e-16\n",
      "    1.79670024e-15   1.24002503e-10   7.72588677e-17   1.11744805e-06\n",
      "    2.67426458e-18   1.50043707e-16   2.58240444e-17   1.49152324e-16\n",
      "    1.64589852e-11   5.54714084e-15   9.95734051e-12   1.09714992e-14\n",
      "    9.97057659e-10   1.97752233e-17   9.28222908e-17]\n",
      " [  1.43154871e-30   1.21121476e-22   1.87111628e-19   4.64422169e-33\n",
      "    4.65639467e-24   1.97783713e-28   0.00000000e+00   1.14345774e-21\n",
      "    4.58152194e-27   4.62788627e-38   0.00000000e+00   8.85296310e-29\n",
      "    2.15862523e-27   1.60427615e-35   0.00000000e+00   0.00000000e+00\n",
      "    0.00000000e+00   0.00000000e+00   1.54921054e-27   7.18257469e-35\n",
      "    2.89356116e-31   2.79301770e-22   0.00000000e+00   0.00000000e+00\n",
      "    6.38385447e-28   1.91853991e-32   1.40469894e-33   1.27992559e-25\n",
      "    1.95019704e-30   2.27676907e-38   2.45435216e-27   2.37964692e-20\n",
      "    0.00000000e+00   2.82695462e-22   6.33473025e-28   2.26346739e-23\n",
      "    1.09894240e-31   4.66586817e-18   4.45239375e-16   7.18727833e-08\n",
      "    9.99999881e-01   2.24047199e-37   2.13510219e-37]\n",
      " [  1.09152391e-25   2.85070060e-28   2.39471126e-30   9.35870975e-30\n",
      "    0.00000000e+00   9.14276019e-28   0.00000000e+00   0.00000000e+00\n",
      "    0.00000000e+00   1.30661766e-32   1.30593355e-04   2.05896909e-28\n",
      "    8.55448273e-16   9.77270429e-14   0.00000000e+00   3.26225896e-32\n",
      "    0.00000000e+00   5.22668845e-27   1.82820926e-33   0.00000000e+00\n",
      "    2.82534277e-15   2.94371245e-31   1.44950189e-11   5.03895398e-35\n",
      "    1.06164457e-25   6.98998690e-01   1.50661578e-20   0.00000000e+00\n",
      "    4.32748346e-24   5.46909540e-09   5.34869718e-12   3.13103862e-27\n",
      "    0.00000000e+00   0.00000000e+00   1.48770913e-01   1.21865314e-19\n",
      "    6.41030068e-12   1.98259137e-37   1.52099773e-01   0.00000000e+00\n",
      "    2.72574578e-28   3.85847087e-31   0.00000000e+00]\n",
      " [  1.16580895e-05   5.20267989e-03   1.50781721e-02   1.60714181e-03\n",
      "    1.54429139e-03   1.71790764e-01   2.92222057e-06   1.27227930e-03\n",
      "    1.26379364e-05   9.10692848e-03   2.41087124e-04   2.91044635e-05\n",
      "    1.13311026e-03   5.71192522e-03   2.03098676e-08   2.37168759e-04\n",
      "    3.53071169e-04   7.23555331e-06   2.64894974e-04   3.36693949e-04\n",
      "    1.05341161e-02   1.45626575e-06   4.67782286e-07   2.43494100e-07\n",
      "    6.83807173e-07   4.15636152e-02   5.17458364e-04   1.94132008e-06\n",
      "    1.39603208e-05   1.01178330e-07   1.21644109e-06   2.37068907e-05\n",
      "    3.67246357e-05   6.36151880e-02   1.90870836e-02   1.66491140e-03\n",
      "    1.89743161e-01   7.71309642e-05   4.71936597e-04   1.35451628e-05\n",
      "    4.58547890e-01   1.14673530e-04   2.50328776e-05]\n",
      " [  9.13546040e-15   3.89486316e-12   1.78437874e-12   1.09067344e-06\n",
      "    3.40811626e-15   3.21915549e-14   1.05024745e-12   5.55289491e-14\n",
      "    9.39104974e-19   9.33007769e-08   4.77935080e-10   8.12339562e-13\n",
      "    1.30565951e-07   2.02879834e-04   8.29134968e-23   1.63625168e-12\n",
      "    9.38206388e-11   6.69412944e-16   9.67130022e-15   9.59546245e-13\n",
      "    8.09763900e-09   1.41504504e-16   5.23527275e-17   2.67783544e-17\n",
      "    4.31337268e-17   9.92068233e-12   2.44820857e-08   6.93059658e-21\n",
      "    1.36045949e-12   3.24007745e-20   5.37186839e-17   6.16242008e-19\n",
      "    8.46592447e-05   9.86362517e-01   1.19400863e-02   1.07716466e-03\n",
      "    3.12017277e-04   6.40229114e-09   1.72413950e-09   1.01542028e-07\n",
      "    1.67457474e-05   2.57543405e-07   2.22005406e-06]]\n",
      "TopKV2(values=array([[  9.91776943e-01,   6.79543708e-03,   1.33401330e-03,\n",
      "          3.70350463e-05,   2.53952112e-05],\n",
      "       [  9.99659657e-01,   3.21102329e-04,   1.44958622e-05,\n",
      "          2.51540496e-06,   1.12776866e-06],\n",
      "       [  9.99999881e-01,   7.18727833e-08,   4.45239375e-16,\n",
      "          4.66586817e-18,   1.87111628e-19],\n",
      "       [  6.98998690e-01,   1.52099773e-01,   1.48770913e-01,\n",
      "          1.30593355e-04,   5.46909540e-09],\n",
      "       [  4.58547890e-01,   1.89743161e-01,   1.71790764e-01,\n",
      "          6.36151880e-02,   4.15636152e-02],\n",
      "       [  9.86362517e-01,   1.19400863e-02,   1.07716466e-03,\n",
      "          3.12017277e-04,   2.02879834e-04]], dtype=float32), indices=array([[ 1, 31,  0,  4,  7],\n",
      "       [ 1,  4,  0,  5,  2],\n",
      "       [40, 39, 38, 37,  2],\n",
      "       [25, 38, 34, 10, 29],\n",
      "       [40, 36,  5, 33, 25],\n",
      "       [33, 34, 35, 36, 13]], dtype=int32))\n"
     ]
    }
   ],
   "source": [
    "### Print out the top five softmax probabilities for the predictions on the German traffic sign images found on the web. \n",
    "### Feel free to use as many code cells as needed.\n",
    "\n",
    "softmax_logits = tf.nn.softmax(logits)\n",
    "top_k = tf.nn.top_k(softmax_logits, k=5)\n",
    "\n",
    "with tf.Session() as sess:\n",
    "    sess.run(tf.global_variables_initializer())\n",
    "    saver.restore(sess, tf.train.latest_checkpoint('.'))\n",
    "    my_softmax_logits = sess.run(softmax_logits, feed_dict={x: testing_images, keep_prob: 1.0})\n",
    "    my_top_k = sess.run(top_k, feed_dict={x: testing_images, keep_prob: 1.0})\n",
    "    print(my_softmax_logits)\n",
    "    print(my_top_k)"
   ]
  },
  {
   "cell_type": "markdown",
   "metadata": {},
   "source": [
    "### Project Writeup\n",
    "\n",
    "Once you have completed the code implementation, document your results in a project writeup using this [template](https://github.com/udacity/CarND-Traffic-Sign-Classifier-Project/blob/master/writeup_template.md) as a guide. The writeup can be in a markdown or pdf file. "
   ]
  },
  {
   "cell_type": "markdown",
   "metadata": {},
   "source": [
    "> **Note**: Once you have completed all of the code implementations and successfully answered each question above, you may finalize your work by exporting the iPython Notebook as an HTML document. You can do this by using the menu above and navigating to  \\n\",\n",
    "    \"**File -> Download as -> HTML (.html)**. Include the finished document along with this notebook as your submission."
   ]
  },
  {
   "cell_type": "markdown",
   "metadata": {},
   "source": [
    "---\n",
    "\n",
    "## Step 4 (Optional): Visualize the Neural Network's State with Test Images\n",
    "\n",
    " This Section is not required to complete but acts as an additional excersise for understaning the output of a neural network's weights. While neural networks can be a great learning device they are often referred to as a black box. We can understand what the weights of a neural network look like better by plotting their feature maps. After successfully training your neural network you can see what it's feature maps look like by plotting the output of the network's weight layers in response to a test stimuli image. From these plotted feature maps, it's possible to see what characteristics of an image the network finds interesting. For a sign, maybe the inner network feature maps react with high activation to the sign's boundary outline or to the contrast in the sign's painted symbol.\n",
    "\n",
    " Provided for you below is the function code that allows you to get the visualization output of any tensorflow weight layer you want. The inputs to the function should be a stimuli image, one used during training or a new one you provided, and then the tensorflow variable name that represents the layer's state during the training process, for instance if you wanted to see what the [LeNet lab's](https://classroom.udacity.com/nanodegrees/nd013/parts/fbf77062-5703-404e-b60c-95b78b2f3f9e/modules/6df7ae49-c61c-4bb2-a23e-6527e69209ec/lessons/601ae704-1035-4287-8b11-e2c2716217ad/concepts/d4aca031-508f-4e0b-b493-e7b706120f81) feature maps looked like for it's second convolutional layer you could enter conv2 as the tf_activation variable.\n",
    "\n",
    "For an example of what feature map outputs look like, check out NVIDIA's results in their paper [End-to-End Deep Learning for Self-Driving Cars](https://devblogs.nvidia.com/parallelforall/deep-learning-self-driving-cars/) in the section Visualization of internal CNN State. NVIDIA was able to show that their network's inner weights had high activations to road boundary lines by comparing feature maps from an image with a clear path to one without. Try experimenting with a similar test to show that your trained network's weights are looking for interesting features, whether it's looking at differences in feature maps from images with or without a sign, or even what feature maps look like in a trained network vs a completely untrained one on the same sign image.\n",
    "\n",
    "<figure>\n",
    " <img src=\"visualize_cnn.png\" width=\"380\" alt=\"Combined Image\" />\n",
    " <figcaption>\n",
    " <p></p> \n",
    " <p style=\"text-align: center;\"> Your output should look something like this (above)</p> \n",
    " </figcaption>\n",
    "</figure>\n",
    " <p></p> \n"
   ]
  },
  {
   "cell_type": "code",
   "execution_count": null,
   "metadata": {},
   "outputs": [],
   "source": []
  },
  {
   "cell_type": "code",
   "execution_count": 33,
   "metadata": {},
   "outputs": [],
   "source": [
    "### Visualize your network's feature maps here.\n",
    "### Feel free to use as many code cells as needed.\n",
    "\n",
    "# image_input: the test image being fed into the network to produce the feature maps\n",
    "# tf_activation: should be a tf variable name used during your training procedure that represents the calculated state of a specific weight layer\n",
    "# activation_min/max: can be used to view the activation contrast in more detail, by default matplot sets min and max to the actual min and max values of the output\n",
    "# plt_num: used to plot out multiple different weight feature map sets on the same block, just extend the plt number for each new feature map entry\n",
    "\n",
    "def outputFeatureMap(image_input, tf_activation, activation_min=-1, activation_max=-1 ,plt_num=1):\n",
    "    # Here make sure to preprocess your image_input in a way your network expects\n",
    "    # with size, normalization, ect if needed\n",
    "    # image_input =\n",
    "    # Note: x should be the same name as your network's tensorflow data placeholder variable\n",
    "    # If you get an error tf_activation is not defined it may be having trouble accessing the variable from inside a function\n",
    "    activation = tf_activation.eval(session=sess,feed_dict={x : image_input})\n",
    "    featuremaps = activation.shape[3]\n",
    "    plt.figure(plt_num, figsize=(15,15))\n",
    "    for featuremap in range(featuremaps):\n",
    "        plt.subplot(6,8, featuremap+1) # sets the number of feature maps to show on each row and column\n",
    "        plt.title('FeatureMap ' + str(featuremap)) # displays the feature map number\n",
    "        if activation_min != -1 & activation_max != -1:\n",
    "            plt.imshow(activation[0,:,:, featuremap], interpolation=\"nearest\", vmin =activation_min, vmax=activation_max, cmap=\"gray\")\n",
    "        elif activation_max != -1:\n",
    "            plt.imshow(activation[0,:,:, featuremap], interpolation=\"nearest\", vmax=activation_max, cmap=\"gray\")\n",
    "        elif activation_min !=-1:\n",
    "            plt.imshow(activation[0,:,:, featuremap], interpolation=\"nearest\", vmin=activation_min, cmap=\"gray\")\n",
    "        else:\n",
    "            plt.imshow(activation[0,:,:, featuremap], interpolation=\"nearest\", cmap=\"gray\")"
   ]
  }
 ],
 "metadata": {
  "anaconda-cloud": {},
  "kernelspec": {
   "display_name": "Python 3",
   "language": "python",
   "name": "python3"
  },
  "language_info": {
   "codemirror_mode": {
    "name": "ipython",
    "version": 3
   },
   "file_extension": ".py",
   "mimetype": "text/x-python",
   "name": "python",
   "nbconvert_exporter": "python",
   "pygments_lexer": "ipython3",
   "version": "3.6.3"
  }
 },
 "nbformat": 4,
 "nbformat_minor": 1
}
